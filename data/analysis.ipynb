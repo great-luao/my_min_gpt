{
 "cells": [
  {
   "cell_type": "code",
   "execution_count": 15,
   "metadata": {},
   "outputs": [],
   "source": [
    "import pandas as pd\n",
    "import tiktoken"
   ]
  },
  {
   "cell_type": "code",
   "execution_count": 21,
   "metadata": {},
   "outputs": [
    {
     "name": "stdout",
     "output_type": "stream",
     "text": [
      "                review  sentiment\n",
      "0        期待期待，上映一定要去看。          1\n",
      "1              真的很萌啊哈哈          1\n",
      "2       衣服好华丽啊!王子能再帅点嘛          1\n",
      "3  为啥结局要那样!!!为啥为啥为啥!!!          1\n",
      "4               表示看不懂~          0\n"
     ]
    }
   ],
   "source": [
    "# Check the data in the reviews.csv\n",
    "df = pd.read_csv('reviews.csv')\n",
    "print(df.head())"
   ]
  },
  {
   "cell_type": "code",
   "execution_count": 3,
   "metadata": {},
   "outputs": [
    {
     "name": "stdout",
     "output_type": "stream",
     "text": [
      "Average length: 21.9052\n",
      "Max length: 171\n",
      "Min length: 1\n"
     ]
    }
   ],
   "source": [
    "reviews = df['review']\n",
    "# Check the average, max, and min length of the reviews\n",
    "lengths = [len(review) for review in reviews]\n",
    "print('Average length:', sum(lengths) / len(lengths))\n",
    "print('Max length:', max(lengths))\n",
    "print('Min length:', min(lengths))"
   ]
  },
  {
   "cell_type": "code",
   "execution_count": 6,
   "metadata": {},
   "outputs": [
    {
     "name": "stdout",
     "output_type": "stream",
     "text": [
      "1    4305\n",
      "0     695\n",
      "Name: sentiment, dtype: int64\n"
     ]
    }
   ],
   "source": [
    "# 看一下sentiment的分布\n",
    "print(df['sentiment'].value_counts())"
   ]
  },
  {
   "cell_type": "code",
   "execution_count": null,
   "metadata": {},
   "outputs": [],
   "source": [
    "# padding之前总共有差不多109526个token"
   ]
  },
  {
   "cell_type": "code",
   "execution_count": 5,
   "metadata": {},
   "outputs": [],
   "source": [
    "# write the reviews to a txt file\n",
    "# if the sentiment is 1, add \"好评\" to the beginning of the review\n",
    "# if the sentiment is 0, add \"差评\" to the beginning of the review\n",
    "with open('reviews.txt', 'w') as f:\n",
    "    for i, review in enumerate(reviews):\n",
    "        if df['sentiment'][i] == 1:\n",
    "            f.write('好评：' + review + '\\n')\n",
    "        else:\n",
    "            f.write('差评：' + review + '\\n')"
   ]
  },
  {
   "cell_type": "code",
   "execution_count": 22,
   "metadata": {},
   "outputs": [
    {
     "name": "stderr",
     "output_type": "stream",
     "text": [
      "c:\\Users\\luao\\.conda\\envs\\Fish\\lib\\site-packages\\transformers\\tokenization_utils_base.py:1601: FutureWarning: `clean_up_tokenization_spaces` was not set. It will be set to `True` by default. This behavior will be depracted in transformers v4.45, and will be then set to `False` by default. For more details check this issue: https://github.com/huggingface/transformers/issues/31884\n",
      "  warnings.warn(\n"
     ]
    }
   ],
   "source": [
    "# Try to tokenize the reviews with transoformers\n",
    "from transformers import AutoTokenizer\n",
    "token_ckpt = \"./tokenizer\"\n",
    "tokenizer = AutoTokenizer.from_pretrained(token_ckpt)\n",
    "\n",
    "def tokenize_text(sequence):\n",
    "    \"\"\"Tokenize input sequence.\"\"\"\n",
    "    return tokenizer(sequence, padding=True, truncation=True, max_length=256)\n",
    "\n",
    "# add propmt before each review base on the sentiment\n",
    "def add_prompt(row):\n",
    "    if row[\"sentiment\"] == 1:\n",
    "        return \"好评：\" + row[\"review\"]\n",
    "    else:\n",
    "        return \"差评：\" + row[\"review\"]\n",
    "\n",
    "df[\"review\"] = df.apply(add_prompt, axis=1)\n",
    "# df[\"review\"] = df[\"review\"].apply(padding)\n",
    "\n",
    "tok = df['review'].map(tokenize_text)\n",
    "tok_df = pd.DataFrame(list(tok))\n",
    "\n",
    "def padding(list):\n",
    "    if(len(list) < 20):\n",
    "        list.extend([0] * (20 - len(list)))\n",
    "    return list\n",
    "\n",
    "tok_df = tok_df.applymap(padding)"
   ]
  },
  {
   "cell_type": "code",
   "execution_count": 23,
   "metadata": {},
   "outputs": [
    {
     "name": "stdout",
     "output_type": "stream",
     "text": [
      "                                      attention_mask  \\\n",
      "0  [1, 1, 1, 1, 1, 1, 1, 1, 1, 1, 1, 1, 1, 1, 1, ...   \n",
      "1               [1, 1, 1, 1, 1, 1, 1, 1, 1, 1, 1, 1]   \n",
      "2  [1, 1, 1, 1, 1, 1, 1, 1, 1, 1, 1, 1, 1, 1, 1, ...   \n",
      "3  [1, 1, 1, 1, 1, 1, 1, 1, 1, 1, 1, 1, 1, 1, 1, ...   \n",
      "4                  [1, 1, 1, 1, 1, 1, 1, 1, 1, 1, 1]   \n",
      "\n",
      "                                           input_ids  \\\n",
      "0  [101, 1962, 6397, 8038, 3309, 2521, 3309, 2521...   \n",
      "1  [101, 1962, 6397, 8038, 4696, 4638, 2523, 5846...   \n",
      "2  [101, 1962, 6397, 8038, 6132, 3302, 1962, 1290...   \n",
      "3  [101, 1962, 6397, 8038, 711, 1567, 5310, 2229,...   \n",
      "4  [101, 2345, 6397, 8038, 6134, 4850, 4692, 679,...   \n",
      "\n",
      "                                      token_type_ids  \n",
      "0  [0, 0, 0, 0, 0, 0, 0, 0, 0, 0, 0, 0, 0, 0, 0, ...  \n",
      "1               [0, 0, 0, 0, 0, 0, 0, 0, 0, 0, 0, 0]  \n",
      "2  [0, 0, 0, 0, 0, 0, 0, 0, 0, 0, 0, 0, 0, 0, 0, ...  \n",
      "3  [0, 0, 0, 0, 0, 0, 0, 0, 0, 0, 0, 0, 0, 0, 0, ...  \n",
      "4                  [0, 0, 0, 0, 0, 0, 0, 0, 0, 0, 0]  \n",
      "---------- Corpus statistics ----------\n",
      "\n",
      "Avg. length: 26.5 (std. 24.4)\n",
      "Min. length: 6\n",
      "Max. length: 175\n"
     ]
    }
   ],
   "source": [
    "print(tok_df.head())\n",
    "from statistics import mean, stdev\n",
    "\n",
    "_len = [len(sample) for sample in tok_df['input_ids']]\n",
    "avg_len, std_len = mean(_len), stdev(_len)\n",
    "min_len, max_len = min(_len), max(_len)\n",
    "\n",
    "print('-'*10 + ' Corpus statistics ' + '-'*10)\n",
    "print(f'\\nAvg. length: {avg_len:.1f} (std. {std_len:.1f})')\n",
    "print('Min. length:', min_len)\n",
    "print('Max. length:', max_len)"
   ]
  },
  {
   "cell_type": "code",
   "execution_count": 24,
   "metadata": {},
   "outputs": [
    {
     "name": "stdout",
     "output_type": "stream",
     "text": [
      "[CLS] 好 评 ： 期 待 期 待 ， 上 映 一 定 要 去 看 。 [SEP]\n"
     ]
    }
   ],
   "source": [
    "# decode one of the tokenized reviews\n",
    "print(tokenizer.decode(tok_df['input_ids'][0]))"
   ]
  }
 ],
 "metadata": {
  "kernelspec": {
   "display_name": "Fish",
   "language": "python",
   "name": "python3"
  },
  "language_info": {
   "codemirror_mode": {
    "name": "ipython",
    "version": 3
   },
   "file_extension": ".py",
   "mimetype": "text/x-python",
   "name": "python",
   "nbconvert_exporter": "python",
   "pygments_lexer": "ipython3",
   "version": "3.8.19"
  }
 },
 "nbformat": 4,
 "nbformat_minor": 2
}
